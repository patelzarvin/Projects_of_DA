{
 "cells": [
  {
   "cell_type": "code",
   "execution_count": 1,
   "id": "e937bdc1-e491-44b0-abbb-27cacfc6b15c",
   "metadata": {},
   "outputs": [
    {
     "name": "stdout",
     "output_type": "stream",
     "text": [
      "1.addition\n",
      "2.substraction\n",
      "3.multiplication\n",
      "4.divide\n",
      "5.modulo\n",
      "6.Square\n"
     ]
    },
    {
     "name": "stdin",
     "output_type": "stream",
     "text": [
      "Enter a choice between 1 to 6:: 1\n",
      "Enter the first number::  2\n"
     ]
    },
    {
     "name": "stdout",
     "output_type": "stream",
     "text": [
      "2\n"
     ]
    },
    {
     "name": "stdin",
     "output_type": "stream",
     "text": [
      "Enter the second number :: 3\n"
     ]
    },
    {
     "name": "stdout",
     "output_type": "stream",
     "text": [
      "3\n",
      "the addition of 2 and 3 is 5\n"
     ]
    }
   ],
   "source": [
    "print(\"1.addition\")\n",
    "print(\"2.substraction\")\n",
    "print(\"3.multiplication\")\n",
    "print(\"4.divide\")\n",
    "print(\"5.modulo\")\n",
    "print(\"6.Square\")\n",
    "a = int(input(\"Enter a choice between 1 to 6::\"))\n",
    "\n",
    "b = int(input(\"Enter the first number:: \"))\n",
    "print(b)\n",
    "c = int(input(\"Enter the second number ::\"))\n",
    "print(c)\n",
    "if a == 1:\n",
    "    print(f\"the addition of {b} and {c} is {b + c}\")\n",
    "elif a == 2:\n",
    "    print(f\"The substraction of {b} and {c} is{b - c}\")\n",
    "elif a == 3:\n",
    "    print(f\"The multiplication of {b} and {c} is {b * c}\")\n",
    "elif a == 4:\n",
    "    print(f\"The division of {b} and {c} is{b / c}\")\n",
    "elif a == 5:\n",
    "    print(f\"The percentage of {b} and {c} is {b % c}\")\n",
    "elif a == 6:\n",
    "    print(f\"The Square of {b} and {c} is {b**2} and {c**2}\")\n",
    "else:\n",
    "    print(\"you inputed a wrong choice \")"
   ]
  },
  {
   "cell_type": "code",
   "execution_count": 17,
   "id": "890e9fc4-8397-4832-ba38-df49e7e18b72",
   "metadata": {},
   "outputs": [
    {
     "name": "stdout",
     "output_type": "stream",
     "text": [
      "1.rock\n",
      "2.paper\n",
      "3.scissors\n",
      "\n",
      "Let's play Rock-paper-Scissors game\n"
     ]
    },
    {
     "name": "stdin",
     "output_type": "stream",
     "text": [
      "sir,please enter your choice (quit for exit game ):: quit\n"
     ]
    },
    {
     "name": "stdout",
     "output_type": "stream",
     "text": [
      "Thank  you for playing sir !!\n"
     ]
    }
   ],
   "source": [
    "import random\n",
    "print(\"1.rock\\n2.paper\\n3.scissors\\n\")\n",
    "choices = [\"rock\",\"paper\",\"scissors\"]\n",
    "rules = {\n",
    "        (\"rock\", \"paper\"): \"paper covers rock. You lose!\",\n",
    "        (\"rock\", \"scissors\"): \"rock give damage to scissors. You win!\",\n",
    "        (\"paper\", \"scissors\"): \"scissors cuts paper. You lose!\",\n",
    "        (\"paper\", \"rock\"): \"paper covers rock. You win!\",\n",
    "        (\"scissors\", \"rock\"): \"rock give damage to scissors. You lose !\",\n",
    "        (\"scissors\", \"paper\"): \"scissors cuts paper. You win!\"\n",
    "    }\n",
    "while True:\n",
    "    print(\"Let's play Rock-paper-Scissors game\")\n",
    "    player = input(\"sir,please enter your choice (quit for exit game )::\").lower().strip()\n",
    "    if player == \"quit\":\n",
    "        print(\"Thank  you for playing sir !!\")\n",
    "        break\n",
    "    if player not in choices:\n",
    "        print(\"Sir, Please enter valid choice:\")\n",
    "        continue\n",
    "    \n",
    "\n",
    "    computer = random.choice(choices)\n",
    "    print(f\"computer choose :{computer}\")\n",
    "\n",
    "    if player== computer:\n",
    "        print(\"It's tie\")\n",
    "    else:\n",
    "        result = rules.get((player,computer))\n",
    "        if result:\n",
    "            print(result)\n",
    "        else:\n",
    "            print(\"something went wrong!!\")"
   ]
  },
  {
   "cell_type": "code",
   "execution_count": 9,
   "id": "7f12b3a0-a771-4f7c-a9eb-aff11cceb93d",
   "metadata": {},
   "outputs": [
    {
     "name": "stdin",
     "output_type": "stream",
     "text": [
      "sir,please Enter your name:: zarvin     \n"
     ]
    },
    {
     "name": "stdout",
     "output_type": "stream",
     "text": [
      "0\n"
     ]
    },
    {
     "name": "stdin",
     "output_type": "stream",
     "text": [
      "Enter your pass please: 1234\n"
     ]
    },
    {
     "name": "stdout",
     "output_type": "stream",
     "text": [
      "You are allowed!\n"
     ]
    }
   ],
   "source": [
    "listt1 = [\"zarvin\",\"kushal\",\"Prashant\"]\n",
    "password = [\"1234\",\"kush124\",\"prash645\"]\n",
    "\n",
    "a = input(\"sir,please Enter your name::\").lower().strip()\n",
    "if a not in listt1:\n",
    "    print(\"sorry!!,you are not allow:\")\n",
    "else:\n",
    "    b = listt1.index(a)\n",
    "    print(b)\n",
    "    attempts = 0\n",
    "    while attempts < 3:\n",
    "        if password[b] == input(\"Enter your pass please:\"):\n",
    "            print(\"You are allowed!\")\n",
    "            break\n",
    "        else:\n",
    "            attempts += 1\n",
    "            if attempts < 3:\n",
    "                print(f\"Wrong password! {3-attempts} attempts remaining.\")\n",
    "            else:\n",
    "                print(\"Wrong password 3 times. Get out!\")\n",
    "                break"
   ]
  },
  {
   "cell_type": "code",
   "execution_count": 11,
   "id": "2198f534-4238-4ea0-b265-40e158d36676",
   "metadata": {},
   "outputs": [
    {
     "name": "stdin",
     "output_type": "stream",
     "text": [
      "enter the number between 1 to 100: 50\n"
     ]
    },
    {
     "name": "stdout",
     "output_type": "stream",
     "text": [
      "higher\n"
     ]
    },
    {
     "name": "stdin",
     "output_type": "stream",
     "text": [
      "enter the number between 1 to 100: 40\n"
     ]
    },
    {
     "name": "stdout",
     "output_type": "stream",
     "text": [
      "higher\n"
     ]
    },
    {
     "name": "stdin",
     "output_type": "stream",
     "text": [
      "enter the number between 1 to 100: 30\n"
     ]
    },
    {
     "name": "stdout",
     "output_type": "stream",
     "text": [
      "higher\n"
     ]
    },
    {
     "name": "stdin",
     "output_type": "stream",
     "text": [
      "enter the number between 1 to 100: 20\n"
     ]
    },
    {
     "name": "stdout",
     "output_type": "stream",
     "text": [
      "higher\n"
     ]
    },
    {
     "name": "stdin",
     "output_type": "stream",
     "text": [
      "enter the number between 1 to 100: 10\n"
     ]
    },
    {
     "name": "stdout",
     "output_type": "stream",
     "text": [
      "lower\n"
     ]
    },
    {
     "name": "stdin",
     "output_type": "stream",
     "text": [
      "enter the number between 1 to 100: 15\n"
     ]
    },
    {
     "name": "stdout",
     "output_type": "stream",
     "text": [
      "higher\n"
     ]
    },
    {
     "name": "stdin",
     "output_type": "stream",
     "text": [
      "enter the number between 1 to 100: 14\n"
     ]
    },
    {
     "name": "stdout",
     "output_type": "stream",
     "text": [
      "coreect guess ! you won\n",
      "computer Guess : 14\n"
     ]
    }
   ],
   "source": [
    "import random \n",
    "computer = random.randint(1, 100)\n",
    "while True:\n",
    "     aa = int(input(\"enter the number between 1 to 100:\"))\n",
    "     if aa  > computer:\n",
    "        print(\"higher\")\n",
    "     elif aa < computer:\n",
    "        print(\"lower\")\n",
    "        continue\n",
    "     else:\n",
    "         print(\"coreect guess ! you won\")\n",
    "         print(f\"computer Guess : {computer}\")\n",
    "         break"
   ]
  },
  {
   "cell_type": "code",
   "execution_count": 19,
   "id": "cef9e4fb-3c83-4502-8a8e-dc4ec893825b",
   "metadata": {},
   "outputs": [
    {
     "name": "stdout",
     "output_type": "stream",
     "text": [
      "===================================Welcome to ATM=================================\n",
      "1. Check Balance\n",
      "2. Deposit\n",
      "3. Withdraw\n",
      "4. Exit\n"
     ]
    },
    {
     "name": "stdin",
     "output_type": "stream",
     "text": [
      "Enter your choice:  1\n"
     ]
    },
    {
     "name": "stdout",
     "output_type": "stream",
     "text": [
      "Your balance is: $ 1000\n",
      "===================================Welcome to ATM=================================\n",
      "1. Check Balance\n",
      "2. Deposit\n",
      "3. Withdraw\n",
      "4. Exit\n"
     ]
    },
    {
     "name": "stdin",
     "output_type": "stream",
     "text": [
      "Enter your choice:  2\n",
      "Enter the amount to deposit: $ 2000\n"
     ]
    },
    {
     "name": "stdout",
     "output_type": "stream",
     "text": [
      "Your new balance is: $ 3000.0\n",
      "===================================Welcome to ATM=================================\n",
      "1. Check Balance\n",
      "2. Deposit\n",
      "3. Withdraw\n",
      "4. Exit\n"
     ]
    },
    {
     "name": "stdin",
     "output_type": "stream",
     "text": [
      "Enter your choice:  3\n",
      "Enter the amount to withdraw: $ 2000\n"
     ]
    },
    {
     "name": "stdout",
     "output_type": "stream",
     "text": [
      "Your new balance is: $ 1000.0\n",
      "===================================Welcome to ATM=================================\n",
      "1. Check Balance\n",
      "2. Deposit\n",
      "3. Withdraw\n",
      "4. Exit\n"
     ]
    },
    {
     "name": "stdin",
     "output_type": "stream",
     "text": [
      "Enter your choice:  4\n"
     ]
    },
    {
     "name": "stdout",
     "output_type": "stream",
     "text": [
      "==============================Thank you====================================\n"
     ]
    }
   ],
   "source": [
    "balance = 1000\n",
    "while True :\n",
    "    print(\"===================================Welcome to ATM=================================\")\n",
    "    print(\"1. Check Balance\")\n",
    "    print(\"2. Deposit\")\n",
    "    print(\"3. Withdraw\") \n",
    "    print(\"4. Exit\")\n",
    "\n",
    "    try:\n",
    "        choice = int(input(\"Enter your choice: \"))\n",
    "        if choice == 1:\n",
    "            print(\"Your balance is: $\", balance)\n",
    "        elif choice == 2:\n",
    "            deposit = float(input(\"Enter the amount to deposit: $\"))\n",
    "            balance += deposit\n",
    "            print(\"Your new balance is: $\", balance)\n",
    "        elif choice ==3:\n",
    "            withdraw = float(input(\"Enter the amount to withdraw: $\"))\n",
    "            if withdraw > balance:\n",
    "                print(\"Insufficient funds.\")\n",
    "            else:\n",
    "                balance -= withdraw\n",
    "                print(\"Your new balance is: $\", balance)\n",
    "        elif choice == 4:\n",
    "            print(\"==============================Thank you====================================\")\n",
    "            break\n",
    "        else:\n",
    "            print(\"Invalid choice. Please try again.\")\n",
    "    except ValueError:\n",
    "        print(\"Invalid input. Please enter a number.\")\n",
    "        continue"
   ]
  },
  {
   "cell_type": "code",
   "execution_count": null,
   "id": "b0223c41-a474-4edc-a5af-9315aeff5083",
   "metadata": {},
   "outputs": [],
   "source": []
  }
 ],
 "metadata": {
  "kernelspec": {
   "display_name": "Python [conda env:base] *",
   "language": "python",
   "name": "conda-base-py"
  },
  "language_info": {
   "codemirror_mode": {
    "name": "ipython",
    "version": 3
   },
   "file_extension": ".py",
   "mimetype": "text/x-python",
   "name": "python",
   "nbconvert_exporter": "python",
   "pygments_lexer": "ipython3",
   "version": "3.12.7"
  }
 },
 "nbformat": 4,
 "nbformat_minor": 5
}
